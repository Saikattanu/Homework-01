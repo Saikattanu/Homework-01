{
 "cells": [
  {
   "cell_type": "code",
   "execution_count": 1,
   "id": "bd60a009",
   "metadata": {},
   "outputs": [],
   "source": [
    "import pandas as pd"
   ]
  },
  {
   "cell_type": "code",
   "execution_count": 2,
   "id": "8a34b3b4",
   "metadata": {},
   "outputs": [
    {
     "name": "stdout",
     "output_type": "stream",
     "text": [
      "1. DataFrame with a new column:\n",
      "    Name  Age  AgePlusOne\n",
      "0  John   25          26\n",
      "1  Jane   30          31\n",
      "2   Bob   35          36\n"
     ]
    }
   ],
   "source": [
    "# Create a pandas column using a for loop\n",
    "data = {'Name': ['John', 'Jane', 'Bob'], 'Age': [25, 30, 35]}\n",
    "df = pd.DataFrame(data)\n",
    "new_column = []\n",
    "for index, row in df.iterrows():\n",
    "    new_column.append(row['Age'] + 1)\n",
    "df['AgePlusOne'] = new_column\n",
    "print(\"1. DataFrame with a new column:\\n\", df)"
   ]
  },
  {
   "cell_type": "code",
   "execution_count": 3,
   "id": "a16c364f",
   "metadata": {},
   "outputs": [
    {
     "name": "stdout",
     "output_type": "stream",
     "text": [
      "2. Column names: ['Name', 'Age']\n"
     ]
    }
   ],
   "source": [
    "# How to get column names in Pandas DataFrame\n",
    "df = pd.DataFrame({'Name': ['John', 'Jane', 'Bob'], 'Age': [25, 30, 35]})\n",
    "column_names = df.columns.tolist()\n",
    "print(\"2. Column names:\", column_names)"
   ]
  },
  {
   "cell_type": "code",
   "execution_count": 4,
   "id": "0373930c",
   "metadata": {},
   "outputs": [
    {
     "name": "stdout",
     "output_type": "stream",
     "text": [
      "3. DataFrame with renamed columns:\n",
      "   First Name  Years\n",
      "0       John     25\n",
      "1       Jane     30\n",
      "2        Bob     35\n"
     ]
    }
   ],
   "source": [
    "# How to rename columns in Pandas DataFrame\n",
    "df = pd.DataFrame({'Name': ['John', 'Jane', 'Bob'], 'Age': [25, 30, 35]})\n",
    "df = df.rename(columns={'Name': 'First Name', 'Age': 'Years'})\n",
    "print(\"3. DataFrame with renamed columns:\\n\", df)"
   ]
  },
  {
   "cell_type": "code",
   "execution_count": 5,
   "id": "813afdf0",
   "metadata": {},
   "outputs": [
    {
     "name": "stdout",
     "output_type": "stream",
     "text": [
      "4. Unique values from the 'Name' column: ['John' 'Jane' 'Bob']\n"
     ]
    }
   ],
   "source": [
    "# Get unique values from a column in Pandas DataFrame\n",
    "df = pd.DataFrame({'Name': ['John', 'Jane', 'Bob', 'John'], 'Age': [25, 30, 35, 25]})\n",
    "unique_values = df['Name'].unique()\n",
    "print(\"4. Unique values from the 'Name' column:\", unique_values)"
   ]
  },
  {
   "cell_type": "code",
   "execution_count": 6,
   "id": "7baf680c",
   "metadata": {},
   "outputs": [
    {
     "name": "stdout",
     "output_type": "stream",
     "text": [
      "5. Index labels where 'Age' is greater than 30: [2]\n"
     ]
    }
   ],
   "source": [
    "# Return the Index label if some condition is satisfied over a column in Pandas DataFrame\n",
    "df = pd.DataFrame({'Name': ['John', 'Jane', 'Bob'], 'Age': [25, 30, 35]})\n",
    "index_label = df.loc[df['Age'] > 30].index.tolist()\n",
    "print(\"5. Index labels where 'Age' is greater than 30:\", index_label)"
   ]
  },
  {
   "cell_type": "code",
   "execution_count": 7,
   "id": "bef31843",
   "metadata": {},
   "outputs": [
    {
     "name": "stdout",
     "output_type": "stream",
     "text": [
      "6. DataFrame with a new column based on existing columns:\n",
      "    Name  Age  AgePlusTen\n",
      "0  John   25          35\n",
      "1  Jane   30          40\n",
      "2   Bob   35          45\n"
     ]
    }
   ],
   "source": [
    "# Create a new column in Pandas DataFrame based on the existing columns\n",
    "df = pd.DataFrame({'Name': ['John', 'Jane', 'Bob'], 'Age': [25, 30, 35]})\n",
    "df['AgePlusTen'] = df['Age'] + 10\n",
    "print(\"6. DataFrame with a new column based on existing columns:\\n\", df)"
   ]
  },
  {
   "cell_type": "code",
   "execution_count": 8,
   "id": "3c0750e4",
   "metadata": {},
   "outputs": [
    {
     "name": "stdout",
     "output_type": "stream",
     "text": [
      "7. DataFrame with a new column based on a condition:\n",
      "    Name  Age Category\n",
      "0  John   25    Young\n",
      "1  Jane   30    Young\n",
      "2   Bob   35      Old\n"
     ]
    }
   ],
   "source": [
    "# Creating a Pandas dataframe column based on a given condition\n",
    "df = pd.DataFrame({'Name': ['John', 'Jane', 'Bob'], 'Age': [25, 30, 35]})\n",
    "df['Category'] = df['Age'].apply(lambda x: 'Young' if x <= 30 else 'Old')\n",
    "print(\"7. DataFrame with a new column based on a condition:\\n\", df)"
   ]
  },
  {
   "cell_type": "code",
   "execution_count": 9,
   "id": "c225568b",
   "metadata": {},
   "outputs": [
    {
     "name": "stdout",
     "output_type": "stream",
     "text": [
      "8. Unique values from the 'Name' column: ['John', 'Jane', 'Bob']\n"
     ]
    }
   ],
   "source": [
    "# Getting unique values from a column in Pandas DataFrame\n",
    "df = pd.DataFrame({'Name': ['John', 'Jane', 'Bob', 'John'], 'Age': [25, 30, 35, 25]})\n",
    "unique_values = df['Name'].drop_duplicates().tolist()\n",
    "print(\"8. Unique values from the 'Name' column:\", unique_values)"
   ]
  },
  {
   "cell_type": "code",
   "execution_count": 10,
   "id": "047c445d",
   "metadata": {},
   "outputs": [
    {
     "name": "stdout",
     "output_type": "stream",
     "text": [
      "9. Frequency counts of the 'Name' column:\n",
      " John    2\n",
      "Jane    1\n",
      "Bob     1\n",
      "Name: Name, dtype: int64\n"
     ]
    }
   ],
   "source": [
    "# Getting frequency counts of columns in Pandas DataFrame\n",
    "df = pd.DataFrame({'Name': ['John', 'Jane', 'Bob', 'John'], 'Age': [25, 30, 35, 25]})\n",
    "frequency_counts = df['Name'].value_counts()\n",
    "print(\"9. Frequency counts of the 'Name' column:\\n\", frequency_counts)"
   ]
  },
  {
   "cell_type": "code",
   "execution_count": 11,
   "id": "21891c53",
   "metadata": {},
   "outputs": [
    {
     "name": "stdout",
     "output_type": "stream",
     "text": [
      "10. DataFrame with split text column:\n",
      "           Name First Name Last Name\n",
      "0   John Smith       John     Smith\n",
      "1     Jane Doe       Jane       Doe\n",
      "2  Bob Johnson        Bob   Johnson\n"
     ]
    }
   ],
   "source": [
    "# Split a text column into two columns in Pandas DataFrame\n",
    "df = pd.DataFrame({'Name': ['John Smith', 'Jane Doe', 'Bob Johnson']})\n",
    "df[['First Name', 'Last Name']] = df['Name'].str.split(' ', expand=True)\n",
    "print(\"10. DataFrame with split text column:\\n\", df)"
   ]
  },
  {
   "cell_type": "code",
   "execution_count": 12,
   "id": "4e5a3456",
   "metadata": {},
   "outputs": [
    {
     "name": "stdout",
     "output_type": "stream",
     "text": [
      "11. Index of the minimum value in the 'Age' column: 0\n"
     ]
    }
   ],
   "source": [
    "# Get the index of the minimum value in a DataFrame column\n",
    "df = pd.DataFrame({'Name': ['John', 'Jane', 'Bob'], 'Age': [25, 30, 35]})\n",
    "index_min = df['Age'].idxmin()\n",
    "print(\"11. Index of the minimum value in the 'Age' column:\", index_min)"
   ]
  },
  {
   "cell_type": "code",
   "execution_count": 13,
   "id": "84875227",
   "metadata": {},
   "outputs": [
    {
     "name": "stdout",
     "output_type": "stream",
     "text": [
      "12. Index of the maximum value in the 'Age' column: 2\n"
     ]
    }
   ],
   "source": [
    "# Get the index of the maximum value in a DataFrame column\n",
    "df = pd.DataFrame({'Name': ['John', 'Jane', 'Bob'], 'Age': [25, 30, 35]})\n",
    "index_max = df['Age'].idxmax()\n",
    "print(\"12. Index of the maximum value in the 'Age' column:\", index_max)"
   ]
  },
  {
   "cell_type": "code",
   "execution_count": 14,
   "id": "9dad16cd",
   "metadata": {},
   "outputs": [
    {
     "name": "stdout",
     "output_type": "stream",
     "text": [
      "13. DataFrame with a column for the difference of two columns:\n",
      "     A  B  Difference\n",
      "0   5  2           3\n",
      "1  10  5           5\n",
      "2  15  8           7\n"
     ]
    }
   ],
   "source": [
    "# Difference of two columns in Pandas DataFrame\n",
    "df = pd.DataFrame({'A': [5, 10, 15], 'B': [2, 5, 8]})\n",
    "df['Difference'] = df['A'] - df['B']\n",
    "print(\"13. DataFrame with a column for the difference of two columns:\\n\", df)"
   ]
  },
  {
   "cell_type": "code",
   "execution_count": 15,
   "id": "c0621fd3",
   "metadata": {},
   "outputs": [
    {
     "name": "stdout",
     "output_type": "stream",
     "text": [
      "14. n-largest values from the 'Age' column:\n",
      "    Name  Age\n",
      "2   Bob   35\n",
      "1  Jane   30\n"
     ]
    }
   ],
   "source": [
    "# Get n-largest values from a particular column in Pandas DataFrame\n",
    "df = pd.DataFrame({'Name': ['John', 'Jane', 'Bob'], 'Age': [25, 30, 35]})\n",
    "n_largest = df.nlargest(2, 'Age')\n",
    "print(\"14. n-largest values from the 'Age' column:\\n\", n_largest)"
   ]
  },
  {
   "cell_type": "code",
   "execution_count": 16,
   "id": "09e60013",
   "metadata": {},
   "outputs": [
    {
     "name": "stdout",
     "output_type": "stream",
     "text": [
      "15. n-smallest values from the 'Age' column:\n",
      "    Name  Age\n",
      "0  John   25\n",
      "1  Jane   30\n"
     ]
    }
   ],
   "source": [
    "# Get n-smallest values from a particular column in Pandas DataFrame\n",
    "df = pd.DataFrame({'Name': ['John', 'Jane', 'Bob'], 'Age': [25, 30, 35]})\n",
    "n_smallest = df.nsmallest(2, 'Age')\n",
    "print(\"15. n-smallest values from the 'Age' column:\\n\", n_smallest)"
   ]
  },
  {
   "cell_type": "code",
   "execution_count": 17,
   "id": "69e50508",
   "metadata": {},
   "outputs": [
    {
     "name": "stdout",
     "output_type": "stream",
     "text": [
      "16. DataFrame with dropped columns:\n",
      "    Name\n",
      "0  John\n",
      "1  Jane\n",
      "2   Bob\n"
     ]
    }
   ],
   "source": [
    "# How to drop one or multiple columns in Pandas DataFrame\n",
    "df = pd.DataFrame({'Name': ['John', 'Jane', 'Bob'], 'Age': [25, 30, 35], 'Height': [180, 165, 175]})\n",
    "df = df.drop(['Age', 'Height'], axis=1)\n",
    "print(\"16. DataFrame with dropped columns:\\n\", df)"
   ]
  },
  {
   "cell_type": "code",
   "execution_count": null,
   "id": "776ec0a3",
   "metadata": {},
   "outputs": [],
   "source": []
  }
 ],
 "metadata": {
  "kernelspec": {
   "display_name": "Python 3 (ipykernel)",
   "language": "python",
   "name": "python3"
  },
  "language_info": {
   "codemirror_mode": {
    "name": "ipython",
    "version": 3
   },
   "file_extension": ".py",
   "mimetype": "text/x-python",
   "name": "python",
   "nbconvert_exporter": "python",
   "pygments_lexer": "ipython3",
   "version": "3.9.13"
  }
 },
 "nbformat": 4,
 "nbformat_minor": 5
}
