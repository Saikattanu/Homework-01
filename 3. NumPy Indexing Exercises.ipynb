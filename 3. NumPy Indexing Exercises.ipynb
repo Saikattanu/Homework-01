{
 "cells": [
  {
   "cell_type": "code",
   "execution_count": 3,
   "id": "2d380ef5",
   "metadata": {},
   "outputs": [],
   "source": [
    "import numpy as np"
   ]
  },
  {
   "cell_type": "code",
   "execution_count": 4,
   "id": "9c661a6b",
   "metadata": {},
   "outputs": [
    {
     "name": "stdout",
     "output_type": "stream",
     "text": [
      "1. Replace NumPy array elements: [0 0 0 4 5]\n"
     ]
    }
   ],
   "source": [
    "# Replace NumPy array elements that don't satisfy the given condition\n",
    "arr = np.array([1, 2, 3, 4, 5])\n",
    "condition = arr > 3\n",
    "arr[~condition] = 0\n",
    "print(\"1. Replace NumPy array elements:\", arr)"
   ]
  },
  {
   "cell_type": "code",
   "execution_count": 5,
   "id": "7b684171",
   "metadata": {},
   "outputs": [
    {
     "name": "stdout",
     "output_type": "stream",
     "text": [
      "2. Indices where condition is satisfied: (array([3, 4], dtype=int64),)\n"
     ]
    }
   ],
   "source": [
    "# Return the indices of elements where the given condition is satisfied\n",
    "arr = np.array([1, 2, 3, 4, 5])\n",
    "condition = arr > 3\n",
    "indices = np.where(condition)\n",
    "print(\"2. Indices where condition is satisfied:\", indices)"
   ]
  },
  {
   "cell_type": "code",
   "execution_count": 6,
   "id": "0cc8cdec",
   "metadata": {},
   "outputs": [
    {
     "name": "stdout",
     "output_type": "stream",
     "text": [
      "3. Replace negative values with zero: [0 2 0 4 0]\n"
     ]
    }
   ],
   "source": [
    "# Replace negative values with zero in a NumPy array\n",
    "arr = np.array([-1, 2, -3, 4, -5])\n",
    "arr = np.clip(arr, 0, None)\n",
    "print(\"3. Replace negative values with zero:\", arr)"
   ]
  },
  {
   "cell_type": "code",
   "execution_count": 7,
   "id": "88c19c0d",
   "metadata": {},
   "outputs": [
    {
     "name": "stdout",
     "output_type": "stream",
     "text": [
      "4. Replace NaN values with column averages: [[1.  2.  7.5]\n",
      " [4.  5.  6. ]\n",
      " [7.  8.  9. ]]\n"
     ]
    }
   ],
   "source": [
    "# Replace NaN values with the average of columns\n",
    "arr = np.array([[1, 2, np.nan], [4, np.nan, 6], [7, 8, 9]])\n",
    "column_means = np.nanmean(arr, axis=0)\n",
    "arr[np.isnan(arr)] = np.take(column_means, np.isnan(arr).nonzero()[1])\n",
    "print(\"4. Replace NaN values with column averages:\", arr)"
   ]
  },
  {
   "cell_type": "code",
   "execution_count": 8,
   "id": "f53d2395",
   "metadata": {},
   "outputs": [
    {
     "name": "stdout",
     "output_type": "stream",
     "text": [
      "5. Values at certain index positions: [1 3 5]\n"
     ]
    }
   ],
   "source": [
    "# Get values of a NumPy array at certain index positions\n",
    "arr = np.array([1, 2, 3, 4, 5])\n",
    "indices = [0, 2, 4]\n",
    "values = arr[indices]\n",
    "print(\"5. Values at certain index positions:\", values)"
   ]
  },
  {
   "cell_type": "code",
   "execution_count": 9,
   "id": "a0322397",
   "metadata": {},
   "outputs": [
    {
     "name": "stdout",
     "output_type": "stream",
     "text": [
      "6. Indices of elements equal to zero: (array([1, 3], dtype=int64),)\n"
     ]
    }
   ],
   "source": [
    "# Find indices of elements equal to zero in a NumPy array\n",
    "arr = np.array([1, 0, 2, 0, 3])\n",
    "indices = np.where(arr == 0)\n",
    "print(\"6. Indices of elements equal to zero:\", indices)"
   ]
  },
  {
   "cell_type": "code",
   "execution_count": 10,
   "id": "630bd506",
   "metadata": {},
   "outputs": [
    {
     "name": "stdout",
     "output_type": "stream",
     "text": [
      "7. Access different rows: [[1 2 3]\n",
      " [7 8 9]]\n"
     ]
    }
   ],
   "source": [
    "# Access different rows of a multidimensional NumPy array\n",
    "arr = np.array([[1, 2, 3], [4, 5, 6], [7, 8, 9]])\n",
    "row_indices = [0, 2]\n",
    "rows = arr[row_indices]\n",
    "print(\"7. Access different rows:\", rows)"
   ]
  },
  {
   "cell_type": "code",
   "execution_count": 11,
   "id": "8337f96e",
   "metadata": {},
   "outputs": [
    {
     "name": "stdout",
     "output_type": "stream",
     "text": [
      "8. Remove columns with non-numeric values: [['1' '2' 'a']\n",
      " ['4' 'b' '6']\n",
      " ['7' '8' '9']]\n"
     ]
    }
   ],
   "source": [
    "# Remove columns in a NumPy array that contain non-numeric values\n",
    "arr = np.array([[1, 2, 'a'], [4, 'b', 6], [7, 8, 9]])\n",
    "numeric_columns = np.logical_not(np.logical_or.reduce(np.char.isdigit(arr.astype(str)), axis=0))\n",
    "arr = arr[:, ~numeric_columns]\n",
    "print(\"8. Remove columns with non-numeric values:\", arr)"
   ]
  },
  {
   "cell_type": "code",
   "execution_count": 12,
   "id": "d6ebf20f",
   "metadata": {},
   "outputs": [
    {
     "name": "stdout",
     "output_type": "stream",
     "text": [
      "9. Row numbers with elements larger than X: [1 2]\n"
     ]
    }
   ],
   "source": [
    "# Get row numbers of a NumPy array having elements larger than X\n",
    "arr = np.array([[1, 2, 3], [4, 5, 6], [7, 8, 9]])\n",
    "X = 5\n",
    "row_numbers = np.where(np.any(arr > X, axis=1))[0]\n",
    "print(\"9. Row numbers with elements larger than X:\", row_numbers)"
   ]
  },
  {
   "cell_type": "code",
   "execution_count": null,
   "id": "2abc8995",
   "metadata": {},
   "outputs": [],
   "source": []
  }
 ],
 "metadata": {
  "kernelspec": {
   "display_name": "Python 3 (ipykernel)",
   "language": "python",
   "name": "python3"
  },
  "language_info": {
   "codemirror_mode": {
    "name": "ipython",
    "version": 3
   },
   "file_extension": ".py",
   "mimetype": "text/x-python",
   "name": "python",
   "nbconvert_exporter": "python",
   "pygments_lexer": "ipython3",
   "version": "3.9.13"
  }
 },
 "nbformat": 4,
 "nbformat_minor": 5
}
