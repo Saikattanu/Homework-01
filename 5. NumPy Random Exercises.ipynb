{
 "cells": [
  {
   "cell_type": "code",
   "execution_count": 1,
   "id": "82f4587a",
   "metadata": {},
   "outputs": [],
   "source": [
    "import numpy as np"
   ]
  },
  {
   "cell_type": "code",
   "execution_count": 2,
   "id": "06e85ae8",
   "metadata": {},
   "outputs": [
    {
     "name": "stdout",
     "output_type": "stream",
     "text": [
      "1. NumPy array with random values:\n",
      " [[0.8582281  0.64105384 0.17235415]\n",
      " [0.12677486 0.24241833 0.5780214 ]\n",
      " [0.7001582  0.53824382 0.93894647]]\n"
     ]
    }
   ],
   "source": [
    "# Create a NumPy array with random values\n",
    "arr = np.random.rand(3, 3)\n",
    "print(\"1. NumPy array with random values:\\n\", arr)"
   ]
  },
  {
   "cell_type": "code",
   "execution_count": 3,
   "id": "c8dfe3d6",
   "metadata": {},
   "outputs": [
    {
     "name": "stdout",
     "output_type": "stream",
     "text": [
      "2. Random numbers from the uniform distribution:\n",
      " [0.17804659 0.59284009 0.37895654 0.6864004  0.47672106]\n"
     ]
    }
   ],
   "source": [
    "# Generate random numbers from the uniform distribution using NumPy\n",
    "uniform_random_numbers = np.random.uniform(low=0.0, high=1.0, size=5)\n",
    "print(\"2. Random numbers from the uniform distribution:\\n\", uniform_random_numbers)"
   ]
  },
  {
   "cell_type": "code",
   "execution_count": 4,
   "id": "519cf5e3",
   "metadata": {},
   "outputs": [
    {
     "name": "stdout",
     "output_type": "stream",
     "text": [
      "3. Matrix of random values from a uniform distribution:\n",
      " [[0.6738529  0.42335504 0.94448457]\n",
      " [0.56190658 0.09631283 0.01006094]\n",
      " [0.91188912 0.44327796 0.13953032]]\n"
     ]
    }
   ],
   "source": [
    "# Return a matrix of random values from a uniform distribution\n",
    "uniform_matrix = np.random.uniform(low=0.0, high=1.0, size=(3, 3))\n",
    "print(\"3. Matrix of random values from a uniform distribution:\\n\", uniform_matrix)"
   ]
  },
  {
   "cell_type": "code",
   "execution_count": 5,
   "id": "380b6d32",
   "metadata": {},
   "outputs": [
    {
     "name": "stdout",
     "output_type": "stream",
     "text": [
      "4. Matrix of random values from a Gaussian distribution:\n",
      " [[ 0.40558687 -0.94634232  1.06251343]\n",
      " [ 0.10846687 -0.40812295 -1.52657631]\n",
      " [ 0.99606603  0.68519474 -0.19232914]]\n"
     ]
    }
   ],
   "source": [
    "# Return a matrix of random values from a Gaussian distribution\n",
    "gaussian_matrix = np.random.normal(loc=0.0, scale=1.0, size=(3, 3))\n",
    "print(\"4. Matrix of random values from a Gaussian distribution:\\n\", gaussian_matrix)"
   ]
  },
  {
   "cell_type": "code",
   "execution_count": null,
   "id": "9b620274",
   "metadata": {},
   "outputs": [],
   "source": []
  }
 ],
 "metadata": {
  "kernelspec": {
   "display_name": "Python 3 (ipykernel)",
   "language": "python",
   "name": "python3"
  },
  "language_info": {
   "codemirror_mode": {
    "name": "ipython",
    "version": 3
   },
   "file_extension": ".py",
   "mimetype": "text/x-python",
   "name": "python",
   "nbconvert_exporter": "python",
   "pygments_lexer": "ipython3",
   "version": "3.9.13"
  }
 },
 "nbformat": 4,
 "nbformat_minor": 5
}
