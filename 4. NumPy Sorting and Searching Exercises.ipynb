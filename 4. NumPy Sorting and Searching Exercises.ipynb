{
 "cells": [
  {
   "cell_type": "code",
   "execution_count": 1,
   "id": "f92cd427",
   "metadata": {},
   "outputs": [],
   "source": [
    "import numpy as np"
   ]
  },
  {
   "cell_type": "code",
   "execution_count": 2,
   "id": "c9d98977",
   "metadata": {},
   "outputs": [
    {
     "name": "stdout",
     "output_type": "stream",
     "text": [
      "1. Indices of sorted array: [1 3 0 2 4]\n"
     ]
    }
   ],
   "source": [
    "# How to get the indices of the sorted array using NumPy in Python?\n",
    "arr = np.array([3, 1, 4, 2, 5])\n",
    "sorted_indices = np.argsort(arr)\n",
    "print(\"1. Indices of sorted array:\", sorted_indices)"
   ]
  },
  {
   "cell_type": "code",
   "execution_count": 3,
   "id": "0b37890c",
   "metadata": {},
   "outputs": [
    {
     "name": "stdout",
     "output_type": "stream",
     "text": [
      "2. k smallest values: [2 3 1]\n"
     ]
    }
   ],
   "source": [
    "# Finding the k smallest values of a NumPy array\n",
    "arr = np.array([3, 1, 4, 2, 5])\n",
    "k = 3\n",
    "k_smallest_values = np.partition(arr, k)[:k]\n",
    "print(\"2. k smallest values:\", k_smallest_values)"
   ]
  },
  {
   "cell_type": "code",
   "execution_count": 4,
   "id": "47ab0ccb",
   "metadata": {},
   "outputs": [
    {
     "name": "stdout",
     "output_type": "stream",
     "text": [
      "3. n largest values: [4 5]\n"
     ]
    }
   ],
   "source": [
    "# How to get the n-largest values of an array using NumPy?\n",
    "arr = np.array([3, 1, 4, 2, 5])\n",
    "n = 2\n",
    "n_largest_values = arr[np.argsort(arr)[-n:]]\n",
    "print(\"3. n largest values:\", n_largest_values)"
   ]
  },
  {
   "cell_type": "code",
   "execution_count": 5,
   "id": "9ec73a0b",
   "metadata": {},
   "outputs": [
    {
     "name": "stdout",
     "output_type": "stream",
     "text": [
      "4. Sorted matrix values: [1 2 3 4 5 6]\n"
     ]
    }
   ],
   "source": [
    "# Sort the values in a matrix\n",
    "matrix = np.array([[3, 1, 4], [2, 5, 6]])\n",
    "sorted_matrix = np.sort(matrix, axis=None)\n",
    "print(\"4. Sorted matrix values:\", sorted_matrix)"
   ]
  },
  {
   "cell_type": "code",
   "execution_count": 6,
   "id": "b8e952e4",
   "metadata": {},
   "outputs": [
    {
     "name": "stdout",
     "output_type": "stream",
     "text": [
      "5. Filtered float array: [1.2 3.5 2.1 4.8 6.3]\n"
     ]
    }
   ],
   "source": [
    "# Filter out integers from a float NumPy array\n",
    "arr = np.array([1.2, 3.5, 2.1, 4.8, 6.3])\n",
    "filtered_arr = arr[np.where(arr.astype(int) != arr)]\n",
    "print(\"5. Filtered float array:\", filtered_arr)"
   ]
  },
  {
   "cell_type": "code",
   "execution_count": 7,
   "id": "bd65c833",
   "metadata": {},
   "outputs": [
    {
     "name": "stdout",
     "output_type": "stream",
     "text": [
      "6. Indices into sorted array: [1 3 5]\n"
     ]
    }
   ],
   "source": [
    "# Find the indices into a sorted array\n",
    "sorted_arr = np.array([1, 2, 3, 4, 5])\n",
    "indices = np.searchsorted(sorted_arr, [2, 4, 6])\n",
    "print(\"6. Indices into sorted array:\", indices)"
   ]
  },
  {
   "cell_type": "code",
   "execution_count": null,
   "id": "56d6bf43",
   "metadata": {},
   "outputs": [],
   "source": []
  }
 ],
 "metadata": {
  "kernelspec": {
   "display_name": "Python 3 (ipykernel)",
   "language": "python",
   "name": "python3"
  },
  "language_info": {
   "codemirror_mode": {
    "name": "ipython",
    "version": 3
   },
   "file_extension": ".py",
   "mimetype": "text/x-python",
   "name": "python",
   "nbconvert_exporter": "python",
   "pygments_lexer": "ipython3",
   "version": "3.9.13"
  }
 },
 "nbformat": 4,
 "nbformat_minor": 5
}
