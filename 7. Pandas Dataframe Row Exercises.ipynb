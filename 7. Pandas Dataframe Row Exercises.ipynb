{
 "cells": [
  {
   "cell_type": "code",
   "execution_count": 1,
   "id": "57c896ad",
   "metadata": {},
   "outputs": [],
   "source": [
    "import pandas as pd"
   ]
  },
  {
   "cell_type": "code",
   "execution_count": 2,
   "id": "eeae33cb",
   "metadata": {},
   "outputs": [
    {
     "name": "stdout",
     "output_type": "stream",
     "text": [
      "0 John 25\n",
      "1 Jane 30\n",
      "2 Bob 35\n"
     ]
    }
   ],
   "source": [
    "# How to iterate over rows in Pandas DataFrame\n",
    "df = pd.DataFrame({'Name': ['John', 'Jane', 'Bob'], 'Age': [25, 30, 35]})\n",
    "for index, row in df.iterrows():\n",
    "    print(index, row['Name'], row['Age'])"
   ]
  },
  {
   "cell_type": "code",
   "execution_count": 3,
   "id": "750e64d2",
   "metadata": {},
   "outputs": [
    {
     "name": "stdout",
     "output_type": "stream",
     "text": [
      "0 John 25\n",
      "1 Jane 30\n",
      "2 Bob 35\n"
     ]
    }
   ],
   "source": [
    "# Different ways to iterate over rows in Pandas DataFrame\n",
    "df = pd.DataFrame({'Name': ['John', 'Jane', 'Bob'], 'Age': [25, 30, 35]})\n",
    "for row in df.itertuples():\n",
    "    print(row.Index, row.Name, row.Age)"
   ]
  },
  {
   "cell_type": "code",
   "execution_count": 4,
   "id": "e4c32df2",
   "metadata": {},
   "outputs": [
    {
     "name": "stdout",
     "output_type": "stream",
     "text": [
      "  Name  Age\n",
      "2  Bob   35\n"
     ]
    }
   ],
   "source": [
    "# Selecting rows in pandas DataFrame based on conditions\n",
    "df = pd.DataFrame({'Name': ['John', 'Jane', 'Bob'], 'Age': [25, 30, 35]})\n",
    "filtered_df = df[df['Age'] > 30]\n",
    "print(filtered_df)"
   ]
  },
  {
   "cell_type": "code",
   "execution_count": 5,
   "id": "f644f3f2",
   "metadata": {},
   "outputs": [
    {
     "name": "stdout",
     "output_type": "stream",
     "text": [
      "Name    Jane\n",
      "Age       30\n",
      "Name: 1, dtype: object\n",
      "Jane\n"
     ]
    }
   ],
   "source": [
    "# Select any row from a DataFrame using iloc[] and iat[] in Pandas\n",
    "df = pd.DataFrame({'Name': ['John', 'Jane', 'Bob'], 'Age': [25, 30, 35]})\n",
    "row_index = 1\n",
    "selected_row_iloc = df.iloc[row_index]\n",
    "selected_row_iat = df.iat[row_index, 0]  # Using column index\n",
    "print(selected_row_iloc)\n",
    "print(selected_row_iat)"
   ]
  },
  {
   "cell_type": "code",
   "execution_count": 6,
   "id": "8f953bfd",
   "metadata": {},
   "outputs": [
    {
     "name": "stdout",
     "output_type": "stream",
     "text": [
      "   Name  Age\n",
      "0  John   25\n",
      "1  Jane   30\n"
     ]
    }
   ],
   "source": [
    "# Limited rows selection with given column in Pandas\n",
    "df = pd.DataFrame({'Name': ['John', 'Jane', 'Bob'], 'Age': [25, 30, 35]})\n",
    "selected_rows = df[df['Age'] < 35][:2]\n",
    "print(selected_rows)"
   ]
  },
  {
   "cell_type": "code",
   "execution_count": 7,
   "id": "cd347b67",
   "metadata": {},
   "outputs": [
    {
     "name": "stdout",
     "output_type": "stream",
     "text": [
      "   Name  Age\n",
      "1  Jane   30\n",
      "2   Bob   35\n"
     ]
    }
   ],
   "source": [
    "# Drop rows from the DataFrame based on a certain condition applied to a column\n",
    "df = pd.DataFrame({'Name': ['John', 'Jane', 'Bob'], 'Age': [25, 30, 35]})\n",
    "filtered_df = df.drop(df[df['Age'] < 30].index)\n",
    "print(filtered_df)\n"
   ]
  },
  {
   "cell_type": "code",
   "execution_count": 8,
   "id": "53025eca",
   "metadata": {},
   "outputs": [
    {
     "name": "stdout",
     "output_type": "stream",
     "text": [
      "[['John', 25], ['Jane', 30], ['Bob', 35]]\n"
     ]
    }
   ],
   "source": [
    "# Create a list from rows in Pandas DataFrame\n",
    "df = pd.DataFrame({'Name': ['John', 'Jane', 'Bob'], 'Age': [25, 30, 35]})\n",
    "row_list = df.values.tolist()\n",
    "print(row_list)"
   ]
  },
  {
   "cell_type": "code",
   "execution_count": 9,
   "id": "a665d28b",
   "metadata": {},
   "outputs": [
    {
     "name": "stdout",
     "output_type": "stream",
     "text": [
      "   Name  Age  Rank\n",
      "0  John   25   1.0\n",
      "1  Jane   30   2.0\n",
      "2   Bob   35   3.0\n"
     ]
    }
   ],
   "source": [
    "# Ranking Rows of Pandas DataFrame\n",
    "df = pd.DataFrame({'Name': ['John', 'Jane', 'Bob'], 'Age': [25, 30, 35]})\n",
    "df['Rank'] = df['Age'].rank()\n",
    "print(df)"
   ]
  },
  {
   "cell_type": "code",
   "execution_count": 10,
   "id": "4b64ebac",
   "metadata": {},
   "outputs": [
    {
     "name": "stdout",
     "output_type": "stream",
     "text": [
      "   Name  Age\n",
      "0  John   25\n",
      "1  Jane   30\n",
      "2   Bob   35\n"
     ]
    }
   ],
   "source": [
    "# Sorting rows in Pandas DataFrame\n",
    "df = pd.DataFrame({'Name': ['John', 'Jane', 'Bob'], 'Age': [25, 30, 35]})\n",
    "sorted_df = df.sort_values(by='Age')\n",
    "print(sorted_df)"
   ]
  },
  {
   "cell_type": "code",
   "execution_count": 11,
   "id": "f21350f5",
   "metadata": {},
   "outputs": [
    {
     "name": "stdout",
     "output_type": "stream",
     "text": [
      "Name    Bob\n",
      "Age      35\n",
      "Name: 2, dtype: object\n",
      "Name    John\n",
      "Age       25\n",
      "Name: 0, dtype: object\n"
     ]
    }
   ],
   "source": [
    "# Select row with maximum and minimum value in Pandas DataFrame\n",
    "df = pd.DataFrame({'Name': ['John', 'Jane', 'Bob'], 'Age': [25, 30, 35]})\n",
    "row_with_max_age = df.loc[df['Age'].idxmax()]\n",
    "row_with_min_age = df.loc[df['Age'].idxmin()]\n",
    "print(row_with_max_age)\n",
    "print(row_with_min_age)"
   ]
  },
  {
   "cell_type": "code",
   "execution_count": 12,
   "id": "6a339f2b",
   "metadata": {},
   "outputs": [
    {
     "name": "stdout",
     "output_type": "stream",
     "text": [
      "   Name  Age\n",
      "0  John   25\n"
     ]
    }
   ],
   "source": [
    "# Get all rows in a Pandas DataFrame containing a given substring\n",
    "df = pd.DataFrame({'Name': ['John', 'Jane', 'Bob'], 'Age': [25, 30, 35]})\n",
    "substring = 'Jo'\n",
    "filtered_df = df[df['Name'].str.contains(substring)]\n",
    "print(filtered_df)"
   ]
  },
  {
   "cell_type": "code",
   "execution_count": 13,
   "id": "e6ebb3d5",
   "metadata": {},
   "outputs": [
    {
     "name": "stdout",
     "output_type": "stream",
     "text": [
      "      Age\n",
      "Name     \n",
      "John   25\n",
      "Jane   30\n",
      "Bob    35\n"
     ]
    }
   ],
   "source": [
    "# Convert a column to row name/index in Pandas\n",
    "df = pd.DataFrame({'Name': ['John', 'Jane', 'Bob'], 'Age': [25, 30, 35]})\n",
    "df = df.set_index('Name')\n",
    "print(df)"
   ]
  },
  {
   "cell_type": "code",
   "execution_count": 14,
   "id": "a86d955b",
   "metadata": {},
   "outputs": [
    {
     "name": "stdout",
     "output_type": "stream",
     "text": [
      "   Name  Age\n",
      "2   Bob   35\n",
      "1  Jane   30\n"
     ]
    }
   ],
   "source": [
    "# How to randomly select rows from Pandas DataFrame\n",
    "df = pd.DataFrame({'Name': ['John', 'Jane', 'Bob'], 'Age': [25, 30, 35]})\n",
    "random_rows = df.sample(n=2)\n",
    "print(random_rows)"
   ]
  },
  {
   "cell_type": "code",
   "execution_count": null,
   "id": "81087dc6",
   "metadata": {},
   "outputs": [],
   "source": []
  }
 ],
 "metadata": {
  "kernelspec": {
   "display_name": "Python 3 (ipykernel)",
   "language": "python",
   "name": "python3"
  },
  "language_info": {
   "codemirror_mode": {
    "name": "ipython",
    "version": 3
   },
   "file_extension": ".py",
   "mimetype": "text/x-python",
   "name": "python",
   "nbconvert_exporter": "python",
   "pygments_lexer": "ipython3",
   "version": "3.9.13"
  }
 },
 "nbformat": 4,
 "nbformat_minor": 5
}
