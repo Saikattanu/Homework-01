{
 "cells": [
  {
   "cell_type": "code",
   "execution_count": 1,
   "id": "52b61437",
   "metadata": {},
   "outputs": [],
   "source": [
    "import pandas as pd\n",
    "import numpy as np"
   ]
  },
  {
   "cell_type": "code",
   "execution_count": 2,
   "id": "f03ec02f",
   "metadata": {},
   "outputs": [
    {
     "name": "stdout",
     "output_type": "stream",
     "text": [
      "1. Pandas Series from an array:\n",
      " 0    10\n",
      "1    20\n",
      "2    30\n",
      "3    40\n",
      "4    50\n",
      "dtype: int32\n"
     ]
    }
   ],
   "source": [
    "# Create a Pandas Series from an array\n",
    "arr = np.array([10, 20, 30, 40, 50])\n",
    "series1 = pd.Series(arr)\n",
    "print(\"1. Pandas Series from an array:\\n\", series1)"
   ]
  },
  {
   "cell_type": "code",
   "execution_count": 3,
   "id": "3c4cef81",
   "metadata": {},
   "outputs": [
    {
     "name": "stdout",
     "output_type": "stream",
     "text": [
      "2. Pandas Series from a dictionary:\n",
      " a    10\n",
      "b    20\n",
      "c    30\n",
      "d    40\n",
      "e    50\n",
      "dtype: int64\n"
     ]
    }
   ],
   "source": [
    "# Creating a Pandas Series from a dictionary\n",
    "data = {'a': 10, 'b': 20, 'c': 30, 'd': 40, 'e': 50}\n",
    "series2 = pd.Series(data)\n",
    "print(\"2. Pandas Series from a dictionary:\\n\", series2)"
   ]
  },
  {
   "cell_type": "code",
   "execution_count": 4,
   "id": "8d407943",
   "metadata": {},
   "outputs": [
    {
     "name": "stdout",
     "output_type": "stream",
     "text": [
      "3. Pandas Series from lists:\n",
      " a    10\n",
      "b    20\n",
      "c    30\n",
      "d    40\n",
      "e    50\n",
      "dtype: int64\n"
     ]
    }
   ],
   "source": [
    "# Creating a Pandas Series from lists\n",
    "labels = ['a', 'b', 'c', 'd', 'e']\n",
    "values = [10, 20, 30, 40, 50]\n",
    "series3 = pd.Series(values, index=labels)\n",
    "print(\"3. Pandas Series from lists:\\n\", series3)"
   ]
  },
  {
   "cell_type": "code",
   "execution_count": 5,
   "id": "e4e0a989",
   "metadata": {},
   "outputs": [
    {
     "name": "stdout",
     "output_type": "stream",
     "text": [
      "4. Pandas Series using NumPy functions:\n",
      " 0    1\n",
      "1    2\n",
      "2    3\n",
      "3    4\n",
      "4    5\n",
      "dtype: int32\n"
     ]
    }
   ],
   "source": [
    "# Create a Pandas Series using NumPy functions\n",
    "series4 = pd.Series(np.arange(1, 6))\n",
    "print(\"4. Pandas Series using NumPy functions:\\n\", series4)"
   ]
  },
  {
   "cell_type": "code",
   "execution_count": 6,
   "id": "a439438f",
   "metadata": {},
   "outputs": [
    {
     "name": "stdout",
     "output_type": "stream",
     "text": [
      "5. Accessing elements of a Pandas Series:\n",
      "   - Element at index 'c': 30\n",
      "   - Elements at indexes 'a' and 'e':\n",
      " a    10\n",
      "e    50\n",
      "dtype: int64\n",
      "   - Elements greater than 30:\n",
      " d    40\n",
      "e    50\n",
      "dtype: int64\n"
     ]
    }
   ],
   "source": [
    "# Access the elements of a Series in Pandas\n",
    "series5 = pd.Series([10, 20, 30, 40, 50], index=['a', 'b', 'c', 'd', 'e'])\n",
    "print(\"5. Accessing elements of a Pandas Series:\")\n",
    "print(\"   - Element at index 'c':\", series5['c'])\n",
    "print(\"   - Elements at indexes 'a' and 'e':\\n\", series5[['a', 'e']])\n",
    "print(\"   - Elements greater than 30:\\n\", series5[series5 > 30])"
   ]
  },
  {
   "cell_type": "code",
   "execution_count": null,
   "id": "7f99be8b",
   "metadata": {},
   "outputs": [],
   "source": []
  }
 ],
 "metadata": {
  "kernelspec": {
   "display_name": "Python 3 (ipykernel)",
   "language": "python",
   "name": "python3"
  },
  "language_info": {
   "codemirror_mode": {
    "name": "ipython",
    "version": 3
   },
   "file_extension": ".py",
   "mimetype": "text/x-python",
   "name": "python",
   "nbconvert_exporter": "python",
   "pygments_lexer": "ipython3",
   "version": "3.9.13"
  }
 },
 "nbformat": 4,
 "nbformat_minor": 5
}
