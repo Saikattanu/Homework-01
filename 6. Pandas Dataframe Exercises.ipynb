{
 "cells": [
  {
   "cell_type": "code",
   "execution_count": 1,
   "id": "006abbd3",
   "metadata": {},
   "outputs": [],
   "source": [
    "import pandas as pd"
   ]
  },
  {
   "cell_type": "code",
   "execution_count": 2,
   "id": "084cbbf2",
   "metadata": {},
   "outputs": [
    {
     "name": "stdout",
     "output_type": "stream",
     "text": [
      "1. Pandas DataFrame with a two-dimensional list:\n",
      "    Name  Age\n",
      "0  John   25\n",
      "1  Jane   30\n",
      "2   Bob   35\n"
     ]
    }
   ],
   "source": [
    "# Make a Pandas DataFrame with a two-dimensional list\n",
    "data = [['John', 25], ['Jane', 30], ['Bob', 35]]\n",
    "df1 = pd.DataFrame(data, columns=['Name', 'Age'])\n",
    "print(\"1. Pandas DataFrame with a two-dimensional list:\\n\", df1)"
   ]
  },
  {
   "cell_type": "code",
   "execution_count": 3,
   "id": "ea06c3ef",
   "metadata": {},
   "outputs": [
    {
     "name": "stdout",
     "output_type": "stream",
     "text": [
      "2. DataFrame created from a dictionary:\n",
      "    Name  Age\n",
      "0  John   25\n",
      "1  Jane   30\n",
      "2   Bob   35\n"
     ]
    }
   ],
   "source": [
    "# Creating a DataFrame from a dictionary of narray/lists\n",
    "data = {'Name': ['John', 'Jane', 'Bob'], 'Age': [25, 30, 35]}\n",
    "df2 = pd.DataFrame(data)\n",
    "print(\"2. DataFrame created from a dictionary:\\n\", df2)"
   ]
  },
  {
   "cell_type": "code",
   "execution_count": 4,
   "id": "85155c72",
   "metadata": {},
   "outputs": [
    {
     "name": "stdout",
     "output_type": "stream",
     "text": [
      "3. Pandas DataFrame using a list of lists:\n",
      "    Name  Age\n",
      "0  John   25\n",
      "1  Jane   30\n",
      "2   Bob   35\n"
     ]
    }
   ],
   "source": [
    "# Creating a Pandas DataFrame using a list of lists\n",
    "data = [['John', 25], ['Jane', 30], ['Bob', 35]]\n",
    "df3 = pd.DataFrame(data, columns=['Name', 'Age'])\n",
    "print(\"3. Pandas DataFrame using a list of lists:\\n\", df3)"
   ]
  },
  {
   "cell_type": "code",
   "execution_count": 5,
   "id": "2e63b92a",
   "metadata": {},
   "outputs": [
    {
     "name": "stdout",
     "output_type": "stream",
     "text": [
      "4. Pandas DataFrame using a list of tuples:\n",
      "    Name  Age\n",
      "0  John   25\n",
      "1  Jane   30\n",
      "2   Bob   35\n"
     ]
    }
   ],
   "source": [
    "# Creating a Pandas DataFrame using a list of tuples\n",
    "data = [('John', 25), ('Jane', 30), ('Bob', 35)]\n",
    "df4 = pd.DataFrame(data, columns=['Name', 'Age'])\n",
    "print(\"4. Pandas DataFrame using a list of tuples:\\n\", df4)"
   ]
  },
  {
   "cell_type": "code",
   "execution_count": 6,
   "id": "fa1bdde8",
   "metadata": {},
   "outputs": [
    {
     "name": "stdout",
     "output_type": "stream",
     "text": [
      "5. Pandas DataFrame from a list of dictionaries:\n",
      "    Name  Age\n",
      "0  John   25\n",
      "1  Jane   30\n",
      "2   Bob   35\n"
     ]
    }
   ],
   "source": [
    "# Create a Pandas DataFrame from a list of dictionaries\n",
    "data = [{'Name': 'John', 'Age': 25}, {'Name': 'Jane', 'Age': 30}, {'Name': 'Bob', 'Age': 35}]\n",
    "df5 = pd.DataFrame(data)\n",
    "print(\"5. Pandas DataFrame from a list of dictionaries:\\n\", df5)"
   ]
  },
  {
   "cell_type": "code",
   "execution_count": 7,
   "id": "2b47cfb3",
   "metadata": {},
   "outputs": [
    {
     "name": "stdout",
     "output_type": "stream",
     "text": [
      "6. DataFrame created from Pandas series:\n",
      "    Name  Age\n",
      "0  John   25\n",
      "1  Jane   30\n",
      "2   Bob   35\n"
     ]
    }
   ],
   "source": [
    "# Creating a DataFrame from Pandas series\n",
    "name_series = pd.Series(['John', 'Jane', 'Bob'])\n",
    "age_series = pd.Series([25, 30, 35])\n",
    "df6 = pd.DataFrame({'Name': name_series, 'Age': age_series})\n",
    "print(\"6. DataFrame created from Pandas series:\\n\", df6)"
   ]
  },
  {
   "cell_type": "code",
   "execution_count": 8,
   "id": "af93738d",
   "metadata": {},
   "outputs": [
    {
     "name": "stdout",
     "output_type": "stream",
     "text": [
      "7. Reindexed Pandas DataFrame:\n",
      "    Name  Age\n",
      "2  John   25\n",
      "1  Jane   30\n",
      "0   Bob   35\n"
     ]
    }
   ],
   "source": [
    "# Reindexing in Pandas DataFrame\n",
    "data = {'Name': ['John', 'Jane', 'Bob'], 'Age': [25, 30, 35]}\n",
    "df7 = pd.DataFrame(data, index=[2, 1, 0])\n",
    "print(\"7. Reindexed Pandas DataFrame:\\n\", df7)"
   ]
  },
  {
   "cell_type": "code",
   "execution_count": 9,
   "id": "de67f0e5",
   "metadata": {},
   "outputs": [
    {
     "name": "stdout",
     "output_type": "stream",
     "text": [
      "8. Pandas DataFrame with reset index:\n",
      "    Name  Age\n",
      "0  John   25\n",
      "1  Jane   30\n",
      "2   Bob   35\n"
     ]
    }
   ],
   "source": [
    "# Reset Index in Pandas DataFrame\n",
    "data = {'Name': ['John', 'Jane', 'Bob'], 'Age': [25, 30, 35]}\n",
    "df8 = pd.DataFrame(data)\n",
    "df8 = df8.reset_index(drop=True)\n",
    "print(\"8. Pandas DataFrame with reset index:\\n\", df8)"
   ]
  },
  {
   "cell_type": "code",
   "execution_count": 10,
   "id": "387c5974",
   "metadata": {},
   "outputs": [
    {
     "name": "stdout",
     "output_type": "stream",
     "text": [
      "9. Pandas DataFrame with changed column names and row indexes:\n",
      "   First Name  Years\n",
      "a       John     25\n",
      "b       Jane     30\n",
      "c        Bob     35\n"
     ]
    }
   ],
   "source": [
    "# Change column names and row indexes in Pandas DataFrame\n",
    "data = {'Name': ['John', 'Jane', 'Bob'], 'Age': [25, 30, 35]}\n",
    "df9 = pd.DataFrame(data, index=['a', 'b', 'c'])\n",
    "df9.columns = ['First Name', 'Years']\n",
    "print(\"9. Pandas DataFrame with changed column names and row indexes:\\n\", df9)"
   ]
  },
  {
   "cell_type": "code",
   "execution_count": null,
   "id": "6a39078d",
   "metadata": {},
   "outputs": [],
   "source": []
  }
 ],
 "metadata": {
  "kernelspec": {
   "display_name": "Python 3 (ipykernel)",
   "language": "python",
   "name": "python3"
  },
  "language_info": {
   "codemirror_mode": {
    "name": "ipython",
    "version": 3
   },
   "file_extension": ".py",
   "mimetype": "text/x-python",
   "name": "python",
   "nbconvert_exporter": "python",
   "pygments_lexer": "ipython3",
   "version": "3.9.13"
  }
 },
 "nbformat": 4,
 "nbformat_minor": 5
}
